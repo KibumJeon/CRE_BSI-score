{
 "cells": [
  {
   "cell_type": "code",
   "execution_count": 1,
   "id": "decdec1e-3465-4c44-9656-26ad8a0ea324",
   "metadata": {},
   "outputs": [
    {
     "data": {
      "application/vnd.jupyter.widget-view+json": {
       "model_id": "8aed376947ef454cbb6eba10f62acf84",
       "version_major": 2,
       "version_minor": 0
      },
      "text/plain": [
       "interactive(children=(FloatText(value=0.0, description='MIC: IMP or MPM'), FloatText(value=0.0, description='W…"
      ]
     },
     "metadata": {},
     "output_type": "display_data"
    },
    {
     "data": {
      "text/plain": [
       "<function __main__.display_prediction(**input_values)>"
      ]
     },
     "execution_count": 1,
     "metadata": {},
     "output_type": "execute_result"
    }
   ],
   "source": [
    "import pandas as pd\n",
    "import numpy as np\n",
    "import pickle\n",
    "import shap\n",
    "import matplotlib.pyplot as plt\n",
    "from ipywidgets import interact, widgets\n",
    "from IPython.display import display\n",
    "\n",
    "# 모델 로드\n",
    "model_name = 'after30'\n",
    "model = pickle.load(open('/Users/kj/Library/CloudStorage/OneDrive-한림대학교/연구 및 과제/박사논문/'+model_name+'/model.pickle.dat', \"rb\"))\n",
    "explainer = shap.TreeExplainer(model)\n",
    "display_name = pd.read_excel('/Users/kj/Library/CloudStorage/OneDrive-한림대학교/연구 및 과제/박사논문/'+model_name+'/feature_list_Display_name Score30.xlsx')\n",
    "\n",
    "# 예측 함수\n",
    "def predict(features):\n",
    "    shap_values = explainer.shap_values(features)\n",
    "    log_odds = model.predict(features, output_margin=True)\n",
    "    probability = 1 / (1 + np.exp(-log_odds))\n",
    "    return shap_values, probability\n",
    "\n",
    "# 입력 폼 생성\n",
    "input_form = {}\n",
    "for col in display_name['short_name']:\n",
    "    input_form[col] = widgets.FloatText(description=col)\n",
    "\n",
    "# 예측 결과 표시\n",
    "def display_prediction(**input_values):\n",
    "    features = pd.DataFrame([input_values])\n",
    "    features.columns = display_name['short_name']\n",
    "    features = features.astype(float)\n",
    "\n",
    "    shap_values, probability = predict(features)\n",
    "\n",
    "    plt.figure(figsize=(12, 14))\n",
    "    shap.force_plot(explainer.expected_value, shap_values[0], features.iloc[0], matplotlib=True, feature_names=features.columns.tolist(), show=False, text_rotation=0)\n",
    "    plt.text(0.5, 0.35, f'Predicted Probability: {probability[0] * 100:.1f}%', fontsize=16, transform=plt.gca().transAxes)\n",
    "    plt.show()\n",
    "\n",
    "# 인터랙티브 폼 생성\n",
    "interact(display_prediction, **input_form)\n",
    "\n"
   ]
  },
  {
   "cell_type": "code",
   "execution_count": null,
   "id": "e1eb51a1-d11d-4e0c-b885-af8eac33e256",
   "metadata": {},
   "outputs": [],
   "source": []
  }
 ],
 "metadata": {
  "kernelspec": {
   "display_name": "Python 3 (ipykernel)",
   "language": "python",
   "name": "python3"
  },
  "language_info": {
   "codemirror_mode": {
    "name": "ipython",
    "version": 3
   },
   "file_extension": ".py",
   "mimetype": "text/x-python",
   "name": "python",
   "nbconvert_exporter": "python",
   "pygments_lexer": "ipython3",
   "version": "3.11.5"
  }
 },
 "nbformat": 4,
 "nbformat_minor": 5
}
